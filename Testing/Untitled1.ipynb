{
 "cells": [
  {
   "cell_type": "code",
   "execution_count": 4,
   "metadata": {},
   "outputs": [],
   "source": [
    "import numpy as np"
   ]
  },
  {
   "cell_type": "code",
   "execution_count": null,
   "metadata": {},
   "outputs": [],
   "source": [
    "# I have mistakenly deleted the file other the code is working\n",
    "file = 'C:\\\\Users\\\\hp\\\\Downloads\\\\nyc_taxis.csv'\n",
    "taxi = np.genfromtxt(file, delimiter = ',', skip_header = True)\n",
    "\n",
    "# Calculate the mean speed of vehicle\n",
    "speed = taxi[:,7] / (taxi[:,8]/3600)\n",
    "# print(speed.mean())\n",
    "\n",
    "# Calculate the number of rides in the month of february\n",
    "month = taxi[:, 1]\n",
    "# print(taxi[month==2].shape[0])\n",
    "\n",
    "# Calculate the number of rides with tip >= 50$\n",
    "tip = taxi[:, 12]\n",
    "print(taxi[tip>=50].shape[0])\n",
    "\n",
    "# Calculate the number of rides where drop off was jfk airport = 2\n",
    "print(taxi[taxi[:, 6] == 2].shape[0])"
   ]
  }
 ],
 "metadata": {
  "kernelspec": {
   "display_name": "Python 3",
   "language": "python",
   "name": "python3"
  },
  "language_info": {
   "codemirror_mode": {
    "name": "ipython",
    "version": 3
   },
   "file_extension": ".py",
   "mimetype": "text/x-python",
   "name": "python",
   "nbconvert_exporter": "python",
   "pygments_lexer": "ipython3",
   "version": "3.8.5"
  }
 },
 "nbformat": 4,
 "nbformat_minor": 4
}
